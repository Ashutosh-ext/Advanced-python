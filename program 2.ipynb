{
 "cells": [
  {
   "cell_type": "code",
   "id": "bb993f00-c4f7-4b15-93d0-9b92d8b58ed8",
   "metadata": {
    "ExecuteTime": {
     "end_time": "2025-06-17T05:42:23.378025Z",
     "start_time": "2025-06-17T05:42:23.370696Z"
    }
   },
   "source": [
    "import numpy as np\n",
    "print(np.__version__)"
   ],
   "outputs": [
    {
     "name": "stdout",
     "output_type": "stream",
     "text": [
      "2.0.0\n"
     ]
    }
   ],
   "execution_count": 8
  },
  {
   "cell_type": "code",
   "id": "9b2a7b84-83d3-48fe-997d-74b1407ea6ca",
   "metadata": {
    "ExecuteTime": {
     "end_time": "2025-06-17T05:41:50.575619Z",
     "start_time": "2025-06-17T05:41:50.571318Z"
    }
   },
   "source": [
    "import sys\n",
    "list = [1,23,4,5]\n",
    "print(list)\n",
    "print(sys.getsizeof(list))"
   ],
   "outputs": [
    {
     "name": "stdout",
     "output_type": "stream",
     "text": [
      "[1, 23, 4, 5]\n",
      "88\n"
     ]
    }
   ],
   "execution_count": 6
  },
  {
   "cell_type": "code",
   "id": "af1e38f0-d7a6-4f2c-80fc-be83d2b9b79b",
   "metadata": {
    "ExecuteTime": {
     "end_time": "2025-06-17T06:00:46.435107Z",
     "start_time": "2025-06-17T06:00:46.426584Z"
    }
   },
   "source": [
    "arr = np.array([1,2,3,4,5])\n",
    "print(arr)\n",
    "print(arr.size)"
   ],
   "outputs": [
    {
     "name": "stdout",
     "output_type": "stream",
     "text": [
      "[1 2 3 4 5]\n",
      "5\n"
     ]
    }
   ],
   "execution_count": 11
  },
  {
   "cell_type": "code",
   "id": "e9f2afa9-f21e-46a1-9560-50098160f3cc",
   "metadata": {
    "ExecuteTime": {
     "end_time": "2025-06-17T06:03:55.556037Z",
     "start_time": "2025-06-17T06:03:55.548589Z"
    }
   },
   "source": [
    "my_matrix = [[1,2,3],[4,5,6],[7,8,9]]\n",
    "print(my_matrix)"
   ],
   "outputs": [
    {
     "name": "stdout",
     "output_type": "stream",
     "text": [
      "[[1, 2, 3], [4, 5, 6], [7, 8, 9]]\n"
     ]
    }
   ],
   "execution_count": 17
  },
  {
   "metadata": {
    "ExecuteTime": {
     "end_time": "2025-06-17T06:03:23.113748Z",
     "start_time": "2025-06-17T06:03:23.107088Z"
    }
   },
   "cell_type": "code",
   "source": [
    "my_matrix = np.array([[1,2,3],[4,5,6],[7,8,9]])\n",
    "print(my_matrix)"
   ],
   "id": "517823e36ccf8ea1",
   "outputs": [
    {
     "name": "stdout",
     "output_type": "stream",
     "text": [
      "[[1 2 3]\n",
      " [4 5 6]\n",
      " [7 8 9]]\n"
     ]
    }
   ],
   "execution_count": 16
  },
  {
   "metadata": {
    "ExecuteTime": {
     "end_time": "2025-06-17T06:04:04.492863Z",
     "start_time": "2025-06-17T06:04:04.487428Z"
    }
   },
   "cell_type": "code",
   "source": [
    "my_matrix = [[1,2,3],[4,5,6],[7,8,9]]\n",
    "print(np.array(my_matrix))"
   ],
   "id": "6753f415002b24d1",
   "outputs": [
    {
     "name": "stdout",
     "output_type": "stream",
     "text": [
      "[[1 2 3]\n",
      " [4 5 6]\n",
      " [7 8 9]]\n"
     ]
    }
   ],
   "execution_count": 18
  },
  {
   "metadata": {},
   "cell_type": "markdown",
   "source": "Built In Functions in NumPy",
   "id": "564a5deff7344ca"
  },
  {
   "metadata": {
    "ExecuteTime": {
     "end_time": "2025-06-17T06:05:38.773586Z",
     "start_time": "2025-06-17T06:05:38.765789Z"
    }
   },
   "cell_type": "code",
   "source": "np.arange(0,10)",
   "id": "8c2840f8ca78be82",
   "outputs": [
    {
     "data": {
      "text/plain": [
       "array([0, 1, 2, 3, 4, 5, 6, 7, 8, 9])"
      ]
     },
     "execution_count": 19,
     "metadata": {},
     "output_type": "execute_result"
    }
   ],
   "execution_count": 19
  },
  {
   "metadata": {
    "ExecuteTime": {
     "end_time": "2025-06-17T06:05:53.840571Z",
     "start_time": "2025-06-17T06:05:53.834526Z"
    }
   },
   "cell_type": "code",
   "source": "np.arange(0,11,2)",
   "id": "c3650849120bc215",
   "outputs": [
    {
     "data": {
      "text/plain": [
       "array([ 0,  2,  4,  6,  8, 10])"
      ]
     },
     "execution_count": 20,
     "metadata": {},
     "output_type": "execute_result"
    }
   ],
   "execution_count": 20
  },
  {
   "metadata": {
    "ExecuteTime": {
     "end_time": "2025-06-17T06:06:45.725963Z",
     "start_time": "2025-06-17T06:06:45.719503Z"
    }
   },
   "cell_type": "code",
   "source": [
    "#zeros and ones\n",
    "np.zeros(3)"
   ],
   "id": "858373d399146934",
   "outputs": [
    {
     "data": {
      "text/plain": [
       "array([0., 0., 0.])"
      ]
     },
     "execution_count": 21,
     "metadata": {},
     "output_type": "execute_result"
    }
   ],
   "execution_count": 21
  },
  {
   "metadata": {
    "ExecuteTime": {
     "end_time": "2025-06-17T06:11:08.741424Z",
     "start_time": "2025-06-17T06:11:08.732886Z"
    }
   },
   "cell_type": "code",
   "source": [
    "arr=np.zeros((5,5))\n",
    "print(arr)"
   ],
   "id": "59dd26435217074c",
   "outputs": [
    {
     "name": "stdout",
     "output_type": "stream",
     "text": [
      "[[0. 0. 0. 0. 0.]\n",
      " [0. 0. 0. 0. 0.]\n",
      " [0. 0. 0. 0. 0.]\n",
      " [0. 0. 0. 0. 0.]\n",
      " [0. 0. 0. 0. 0.]]\n"
     ]
    }
   ],
   "execution_count": 26
  },
  {
   "metadata": {
    "ExecuteTime": {
     "end_time": "2025-06-17T06:10:56.135565Z",
     "start_time": "2025-06-17T06:10:56.126602Z"
    }
   },
   "cell_type": "code",
   "source": [
    "#eye\n",
    "arr=np.eye(4)\n",
    "print(arr)"
   ],
   "id": "3fd8e8209da0061a",
   "outputs": [
    {
     "name": "stdout",
     "output_type": "stream",
     "text": [
      "[[1. 0. 0. 0.]\n",
      " [0. 1. 0. 0.]\n",
      " [0. 0. 1. 0.]\n",
      " [0. 0. 0. 1.]]\n"
     ]
    }
   ],
   "execution_count": 25
  },
  {
   "metadata": {
    "ExecuteTime": {
     "end_time": "2025-06-17T06:12:13.003012Z",
     "start_time": "2025-06-17T06:12:12.947961Z"
    }
   },
   "cell_type": "code",
   "source": [
    "#Random\n",
    "#rand\n",
    "np.random.rand(2)"
   ],
   "id": "a9a4936d03c56791",
   "outputs": [
    {
     "data": {
      "text/plain": [
       "array([0.1592407 , 0.03595292])"
      ]
     },
     "execution_count": 27,
     "metadata": {},
     "output_type": "execute_result"
    }
   ],
   "execution_count": 27
  },
  {
   "metadata": {
    "ExecuteTime": {
     "end_time": "2025-06-17T06:12:42.801074Z",
     "start_time": "2025-06-17T06:12:42.793149Z"
    }
   },
   "cell_type": "code",
   "source": [
    "arr = np.random.rand(5,5)\n",
    "print(arr)"
   ],
   "id": "5eba25039e893b0",
   "outputs": [
    {
     "name": "stdout",
     "output_type": "stream",
     "text": [
      "[[0.18116914 0.55420237 0.54704516 0.39514136 0.58696646]\n",
      " [0.81587756 0.47438178 0.86337578 0.99407694 0.45714385]\n",
      " [0.63018101 0.07494994 0.06296003 0.73466284 0.98294026]\n",
      " [0.06794985 0.04674956 0.64020583 0.12260486 0.6830948 ]\n",
      " [0.75518927 0.35832907 0.48655029 0.25182386 0.01457252]]\n"
     ]
    }
   ],
   "execution_count": 29
  },
  {
   "metadata": {
    "ExecuteTime": {
     "end_time": "2025-06-17T06:15:10.325195Z",
     "start_time": "2025-06-17T06:15:10.317626Z"
    }
   },
   "cell_type": "code",
   "source": [
    "#randn(generates random matrix numbers with negative integers also\n",
    "arr=np.random.randn(2,2)\n",
    "print(arr)"
   ],
   "id": "e8e66588da654e33",
   "outputs": [
    {
     "name": "stdout",
     "output_type": "stream",
     "text": [
      "[[-1.57607676  0.06542822]\n",
      " [-0.90747362 -0.56452683]]\n"
     ]
    }
   ],
   "execution_count": 33
  },
  {
   "metadata": {
    "ExecuteTime": {
     "end_time": "2025-06-17T06:16:53.288525Z",
     "start_time": "2025-06-17T06:16:53.245446Z"
    }
   },
   "cell_type": "code",
   "source": [
    "#randint\n",
    "np.random.randint(1,100)"
   ],
   "id": "2f5f19d13a0cd2ad",
   "outputs": [
    {
     "data": {
      "text/plain": [
       "49"
      ]
     },
     "execution_count": 34,
     "metadata": {},
     "output_type": "execute_result"
    }
   ],
   "execution_count": 34
  },
  {
   "metadata": {
    "ExecuteTime": {
     "end_time": "2025-06-17T06:17:19.923821Z",
     "start_time": "2025-06-17T06:17:19.917705Z"
    }
   },
   "cell_type": "code",
   "source": "np.random.randint(1,100,10)",
   "id": "47eb6648569d4ceb",
   "outputs": [
    {
     "data": {
      "text/plain": [
       "array([90, 37, 74, 18, 53, 31, 68, 13, 52, 43], dtype=int32)"
      ]
     },
     "execution_count": 35,
     "metadata": {},
     "output_type": "execute_result"
    }
   ],
   "execution_count": 35
  },
  {
   "metadata": {
    "ExecuteTime": {
     "end_time": "2025-06-17T06:17:57.282286Z",
     "start_time": "2025-06-17T06:17:57.275945Z"
    }
   },
   "cell_type": "code",
   "source": [
    "arr = np.random.randint(1,100,10)\n",
    "print(arr)"
   ],
   "id": "8c2d3117102984c0",
   "outputs": [
    {
     "name": "stdout",
     "output_type": "stream",
     "text": [
      "[89 87 91  3 54 18 39 37 64 89]\n"
     ]
    }
   ],
   "execution_count": 36
  },
  {
   "metadata": {},
   "cell_type": "markdown",
   "source": "Array Attributes and Methods",
   "id": "4dd3ff6d6e46e25d"
  },
  {
   "metadata": {
    "ExecuteTime": {
     "end_time": "2025-06-17T06:33:52.714770Z",
     "start_time": "2025-06-17T06:33:52.705838Z"
    }
   },
   "cell_type": "code",
   "source": [
    "arr = np.random.randint(5,100,5)\n",
    "print(arr)"
   ],
   "id": "3f560ce73e816757",
   "outputs": [
    {
     "name": "stdout",
     "output_type": "stream",
     "text": [
      "[98 67 10 33 72]\n"
     ]
    }
   ],
   "execution_count": 42
  },
  {
   "metadata": {
    "ExecuteTime": {
     "end_time": "2025-06-17T06:34:48.599329Z",
     "start_time": "2025-06-17T06:34:48.588741Z"
    }
   },
   "cell_type": "code",
   "source": [
    "print(arr.max())\n",
    "print(arr.min())\n",
    "print(arr.mean())\n"
   ],
   "id": "837dc6b3fef0673b",
   "outputs": [
    {
     "name": "stdout",
     "output_type": "stream",
     "text": [
      "98\n",
      "10\n",
      "56.0\n"
     ]
    }
   ],
   "execution_count": 44
  },
  {
   "metadata": {},
   "cell_type": "markdown",
   "source": "Numpy Indexing and Slicing\n",
   "id": "68aeb98e65252dd6"
  },
  {
   "metadata": {
    "ExecuteTime": {
     "end_time": "2025-06-17T06:38:26.148472Z",
     "start_time": "2025-06-17T06:38:26.139690Z"
    }
   },
   "cell_type": "code",
   "source": [
    "#Bracket indexing and slicing\n",
    "#simple way to pick one or some elements of an array\n",
    "\n",
    "arr = np.arange(0,10)\n",
    "print(arr)\n",
    "print(arr[5])\n",
    "arr[0:5]"
   ],
   "id": "be6c4341ac169333",
   "outputs": [
    {
     "name": "stdout",
     "output_type": "stream",
     "text": [
      "[0 1 2 3 4 5 6 7 8 9]\n",
      "5\n"
     ]
    },
    {
     "data": {
      "text/plain": [
       "array([0, 1, 2, 3, 4])"
      ]
     },
     "execution_count": 45,
     "metadata": {},
     "output_type": "execute_result"
    }
   ],
   "execution_count": 45
  },
  {
   "metadata": {
    "ExecuteTime": {
     "end_time": "2025-06-17T06:39:32.034324Z",
     "start_time": "2025-06-17T06:39:32.027903Z"
    }
   },
   "cell_type": "code",
   "source": [
    "#Broadcasting\n",
    "#Setting the value with index range\n",
    "arr[0:5] = 100\n",
    "print(arr)\n"
   ],
   "id": "eef17573a2483d2b",
   "outputs": [
    {
     "name": "stdout",
     "output_type": "stream",
     "text": [
      "[100 100 100 100 100   5   6   7   8   9]\n"
     ]
    }
   ],
   "execution_count": 46
  },
  {
   "metadata": {
    "ExecuteTime": {
     "end_time": "2025-06-17T06:41:27.584199Z",
     "start_time": "2025-06-17T06:41:27.575759Z"
    }
   },
   "cell_type": "code",
   "source": [
    "arr = np.arange(0,10)\n",
    "print(arr)\n",
    "slice_of_arr = arr[0:5]\n",
    "slice_of_arr[:]=99\n",
    "slice_of_arr"
   ],
   "id": "f197dfd4a9dab148",
   "outputs": [
    {
     "name": "stdout",
     "output_type": "stream",
     "text": [
      "[0 1 2 3 4 5 6 7 8 9]\n"
     ]
    },
    {
     "data": {
      "text/plain": [
       "array([99, 99, 99, 99, 99])"
      ]
     },
     "execution_count": 48,
     "metadata": {},
     "output_type": "execute_result"
    }
   ],
   "execution_count": 48
  },
  {
   "metadata": {},
   "cell_type": "markdown",
   "source": "Indexing a 2D Array\n",
   "id": "dcf56641e09b1263"
  },
  {
   "metadata": {
    "ExecuteTime": {
     "end_time": "2025-06-17T06:44:43.464369Z",
     "start_time": "2025-06-17T06:44:43.457850Z"
    }
   },
   "cell_type": "code",
   "source": [
    "arr_2nd = np.array([[1,2,3],[4,5,6],[7,8,9]])\n",
    "print(arr_2nd)\n",
    "print(arr_2nd[1])\n",
    "print(arr_2nd[1][1])"
   ],
   "id": "58e808681ba10aa7",
   "outputs": [
    {
     "name": "stdout",
     "output_type": "stream",
     "text": [
      "[[1 2 3]\n",
      " [4 5 6]\n",
      " [7 8 9]]\n",
      "[4 5 6]\n",
      "5\n"
     ]
    }
   ],
   "execution_count": 49
  },
  {
   "metadata": {},
   "cell_type": "code",
   "outputs": [],
   "execution_count": null,
   "source": [
    "#2D array slicing\n",
    "#shape (2,2) from top right corner\n",
    "\n"
   ],
   "id": "582203de3a5bb1e8"
  }
 ],
 "metadata": {
  "kernelspec": {
   "display_name": "Python 3 (ipykernel)",
   "language": "python",
   "name": "python3"
  },
  "language_info": {
   "codemirror_mode": {
    "name": "ipython",
    "version": 3
   },
   "file_extension": ".py",
   "mimetype": "text/x-python",
   "name": "python",
   "nbconvert_exporter": "python",
   "pygments_lexer": "ipython3",
   "version": "3.13.4"
  }
 },
 "nbformat": 4,
 "nbformat_minor": 5
}
